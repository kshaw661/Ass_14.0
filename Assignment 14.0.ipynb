{
 "cells": [
  {
   "cell_type": "code",
   "execution_count": 78,
   "metadata": {},
   "outputs": [],
   "source": [
    "# Import\n",
    "import random\n",
    "import numpy as np\n",
    "import pandas as pd\n",
    "import sqlite3"
   ]
  },
  {
   "cell_type": "code",
   "execution_count": 79,
   "metadata": {},
   "outputs": [
    {
     "data": {
      "text/html": [
       "<div>\n",
       "<style scoped>\n",
       "    .dataframe tbody tr th:only-of-type {\n",
       "        vertical-align: middle;\n",
       "    }\n",
       "\n",
       "    .dataframe tbody tr th {\n",
       "        vertical-align: top;\n",
       "    }\n",
       "\n",
       "    .dataframe thead th {\n",
       "        text-align: right;\n",
       "    }\n",
       "</style>\n",
       "<table border=\"1\" class=\"dataframe\">\n",
       "  <thead>\n",
       "    <tr style=\"text-align: right;\">\n",
       "      <th></th>\n",
       "      <th>39</th>\n",
       "      <th>State-gov</th>\n",
       "      <th>77516</th>\n",
       "      <th>Bachelors</th>\n",
       "      <th>13</th>\n",
       "      <th>Never-married</th>\n",
       "      <th>Adm-clerical</th>\n",
       "      <th>Not-in-family</th>\n",
       "      <th>White</th>\n",
       "      <th>Male</th>\n",
       "      <th>2174</th>\n",
       "      <th>0</th>\n",
       "      <th>40</th>\n",
       "      <th>United-States</th>\n",
       "      <th>&lt;=50K</th>\n",
       "    </tr>\n",
       "  </thead>\n",
       "  <tbody>\n",
       "    <tr>\n",
       "      <th>0</th>\n",
       "      <td>50</td>\n",
       "      <td>Self-emp-not-inc</td>\n",
       "      <td>83311</td>\n",
       "      <td>Bachelors</td>\n",
       "      <td>13</td>\n",
       "      <td>Married-civ-spouse</td>\n",
       "      <td>Exec-managerial</td>\n",
       "      <td>Husband</td>\n",
       "      <td>White</td>\n",
       "      <td>Male</td>\n",
       "      <td>0</td>\n",
       "      <td>0</td>\n",
       "      <td>13</td>\n",
       "      <td>United-States</td>\n",
       "      <td>&lt;=50K</td>\n",
       "    </tr>\n",
       "    <tr>\n",
       "      <th>1</th>\n",
       "      <td>38</td>\n",
       "      <td>Private</td>\n",
       "      <td>215646</td>\n",
       "      <td>HS-grad</td>\n",
       "      <td>9</td>\n",
       "      <td>Divorced</td>\n",
       "      <td>Handlers-cleaners</td>\n",
       "      <td>Not-in-family</td>\n",
       "      <td>White</td>\n",
       "      <td>Male</td>\n",
       "      <td>0</td>\n",
       "      <td>0</td>\n",
       "      <td>40</td>\n",
       "      <td>United-States</td>\n",
       "      <td>&lt;=50K</td>\n",
       "    </tr>\n",
       "    <tr>\n",
       "      <th>2</th>\n",
       "      <td>53</td>\n",
       "      <td>Private</td>\n",
       "      <td>234721</td>\n",
       "      <td>11th</td>\n",
       "      <td>7</td>\n",
       "      <td>Married-civ-spouse</td>\n",
       "      <td>Handlers-cleaners</td>\n",
       "      <td>Husband</td>\n",
       "      <td>Black</td>\n",
       "      <td>Male</td>\n",
       "      <td>0</td>\n",
       "      <td>0</td>\n",
       "      <td>40</td>\n",
       "      <td>United-States</td>\n",
       "      <td>&lt;=50K</td>\n",
       "    </tr>\n",
       "  </tbody>\n",
       "</table>\n",
       "</div>"
      ],
      "text/plain": [
       "   39          State-gov   77516   Bachelors   13        Never-married  \\\n",
       "0  50   Self-emp-not-inc   83311   Bachelors   13   Married-civ-spouse   \n",
       "1  38            Private  215646     HS-grad    9             Divorced   \n",
       "2  53            Private  234721        11th    7   Married-civ-spouse   \n",
       "\n",
       "         Adm-clerical   Not-in-family   White   Male   2174   0   40  \\\n",
       "0     Exec-managerial         Husband   White   Male      0   0   13   \n",
       "1   Handlers-cleaners   Not-in-family   White   Male      0   0   40   \n",
       "2   Handlers-cleaners         Husband   Black   Male      0   0   40   \n",
       "\n",
       "    United-States   <=50K  \n",
       "0   United-States   <=50K  \n",
       "1   United-States   <=50K  \n",
       "2   United-States   <=50K  "
      ]
     },
     "execution_count": 79,
     "metadata": {},
     "output_type": "execute_result"
    }
   ],
   "source": [
    "adult_data_set = pd.read_csv('https://archive.ics.uci.edu/ml/machine-learning-databases/adult/adult.data')\n",
    "adult_data_set.head(3)"
   ]
  },
  {
   "cell_type": "code",
   "execution_count": 80,
   "metadata": {},
   "outputs": [
    {
     "data": {
      "text/html": [
       "<div>\n",
       "<style scoped>\n",
       "    .dataframe tbody tr th:only-of-type {\n",
       "        vertical-align: middle;\n",
       "    }\n",
       "\n",
       "    .dataframe tbody tr th {\n",
       "        vertical-align: top;\n",
       "    }\n",
       "\n",
       "    .dataframe thead th {\n",
       "        text-align: right;\n",
       "    }\n",
       "</style>\n",
       "<table border=\"1\" class=\"dataframe\">\n",
       "  <thead>\n",
       "    <tr style=\"text-align: right;\">\n",
       "      <th></th>\n",
       "      <th>age</th>\n",
       "      <th>workclass</th>\n",
       "      <th>fnlwgt</th>\n",
       "      <th>education</th>\n",
       "      <th>education_num</th>\n",
       "      <th>marital_status</th>\n",
       "      <th>occupation</th>\n",
       "      <th>relationship</th>\n",
       "      <th>race</th>\n",
       "      <th>sex</th>\n",
       "      <th>capital_gain</th>\n",
       "      <th>capital_loss</th>\n",
       "      <th>hours_per_week</th>\n",
       "      <th>native_country</th>\n",
       "      <th>income</th>\n",
       "    </tr>\n",
       "  </thead>\n",
       "  <tbody>\n",
       "    <tr>\n",
       "      <th>0</th>\n",
       "      <td>50</td>\n",
       "      <td>Self-emp-not-inc</td>\n",
       "      <td>83311</td>\n",
       "      <td>Bachelors</td>\n",
       "      <td>13</td>\n",
       "      <td>Married-civ-spouse</td>\n",
       "      <td>Exec-managerial</td>\n",
       "      <td>Husband</td>\n",
       "      <td>White</td>\n",
       "      <td>Male</td>\n",
       "      <td>0</td>\n",
       "      <td>0</td>\n",
       "      <td>13</td>\n",
       "      <td>United-States</td>\n",
       "      <td>&lt;=50K</td>\n",
       "    </tr>\n",
       "    <tr>\n",
       "      <th>1</th>\n",
       "      <td>38</td>\n",
       "      <td>Private</td>\n",
       "      <td>215646</td>\n",
       "      <td>HS-grad</td>\n",
       "      <td>9</td>\n",
       "      <td>Divorced</td>\n",
       "      <td>Handlers-cleaners</td>\n",
       "      <td>Not-in-family</td>\n",
       "      <td>White</td>\n",
       "      <td>Male</td>\n",
       "      <td>0</td>\n",
       "      <td>0</td>\n",
       "      <td>40</td>\n",
       "      <td>United-States</td>\n",
       "      <td>&lt;=50K</td>\n",
       "    </tr>\n",
       "    <tr>\n",
       "      <th>2</th>\n",
       "      <td>53</td>\n",
       "      <td>Private</td>\n",
       "      <td>234721</td>\n",
       "      <td>11th</td>\n",
       "      <td>7</td>\n",
       "      <td>Married-civ-spouse</td>\n",
       "      <td>Handlers-cleaners</td>\n",
       "      <td>Husband</td>\n",
       "      <td>Black</td>\n",
       "      <td>Male</td>\n",
       "      <td>0</td>\n",
       "      <td>0</td>\n",
       "      <td>40</td>\n",
       "      <td>United-States</td>\n",
       "      <td>&lt;=50K</td>\n",
       "    </tr>\n",
       "  </tbody>\n",
       "</table>\n",
       "</div>"
      ],
      "text/plain": [
       "   age          workclass  fnlwgt   education  education_num  \\\n",
       "0   50   Self-emp-not-inc   83311   Bachelors             13   \n",
       "1   38            Private  215646     HS-grad              9   \n",
       "2   53            Private  234721        11th              7   \n",
       "\n",
       "        marital_status          occupation    relationship    race    sex  \\\n",
       "0   Married-civ-spouse     Exec-managerial         Husband   White   Male   \n",
       "1             Divorced   Handlers-cleaners   Not-in-family   White   Male   \n",
       "2   Married-civ-spouse   Handlers-cleaners         Husband   Black   Male   \n",
       "\n",
       "   capital_gain  capital_loss  hours_per_week  native_country  income  \n",
       "0             0             0              13   United-States   <=50K  \n",
       "1             0             0              40   United-States   <=50K  \n",
       "2             0             0              40   United-States   <=50K  "
      ]
     },
     "execution_count": 80,
     "metadata": {},
     "output_type": "execute_result"
    }
   ],
   "source": [
    "adult_data_set.columns =[\"age\",\"workclass\",\"fnlwgt\",\"education\",\"education_num\",\"marital_status\",\"occupation\",\"relationship\",\"race\",\"sex\",\"capital_gain\",\"capital_loss\",\"hours_per_week\",\"native_country\",\"income\"]\n",
    "adult_data_set.head(3)"
   ]
  },
  {
   "cell_type": "code",
   "execution_count": 81,
   "metadata": {},
   "outputs": [],
   "source": [
    "import sqlalchemy\n",
    "from sqlalchemy import create_engine\n",
    "engine = create_engine('sqlite:///sqladb', echo=False)"
   ]
  },
  {
   "cell_type": "code",
   "execution_count": 82,
   "metadata": {},
   "outputs": [],
   "source": [
    "adult_data_set.to_sql('sqladb', engine, if_exists='replace')"
   ]
  },
  {
   "cell_type": "code",
   "execution_count": 83,
   "metadata": {},
   "outputs": [],
   "source": [
    "connection = sqlite3.connect(\"sqladb\")\n",
    "cursor = connection.cursor()"
   ]
  },
  {
   "cell_type": "code",
   "execution_count": 84,
   "metadata": {},
   "outputs": [
    {
     "name": "stdout",
     "output_type": "stream",
     "text": [
      "   index  age      workclass  fnlwgt   education  education_num  \\\n",
      "0      0   50  Self Employed   83311   Bachelors             13   \n",
      "1      1   38        Private  215646     HS-grad              9   \n",
      "2      2   53        Private  234721        11th              7   \n",
      "\n",
      "        marital_status          occupation    relationship    race    sex  \\\n",
      "0   Married-civ-spouse     Exec-managerial         Husband   White   Male   \n",
      "1             Divorced   Handlers-cleaners   Not-in-family   White   Male   \n",
      "2   Married-civ-spouse   Handlers-cleaners         Husband   Black   Male   \n",
      "\n",
      "   capital_gain  capital_loss  hours_per_week  native_country  income  \n",
      "0             0             0              13   United-States   <=50K  \n",
      "1             0             0              40   United-States   <=50K  \n",
      "2             0             0              40   United-States   <=50K  \n"
     ]
    }
   ],
   "source": [
    "cursor.execute('UPDATE sqladb SET workclass = \"Self Employed\" WHERE workclass = \" Self-emp-not-inc\"')\n",
    "print(pd.read_sql_query(\"SELECT * FROM sqladb\", connection).head(3))"
   ]
  },
  {
   "cell_type": "code",
   "execution_count": 85,
   "metadata": {},
   "outputs": [
    {
     "name": "stdout",
     "output_type": "stream",
     "text": [
      "   index  age      workclass  fnlwgt   education  education_num  \\\n",
      "0      0   50  Self Employed   83311   Bachelors             13   \n",
      "1      1   38        Private  215646          HS              9   \n",
      "2      2   53        Private  234721        11th              7   \n",
      "\n",
      "        marital_status          occupation    relationship    race    sex  \\\n",
      "0   Married-civ-spouse     Exec-managerial         Husband   White   Male   \n",
      "1             Divorced   Handlers-cleaners   Not-in-family   White   Male   \n",
      "2   Married-civ-spouse   Handlers-cleaners         Husband   Black   Male   \n",
      "\n",
      "   capital_gain  capital_loss  hours_per_week  native_country  income  \n",
      "0             0             0              13   United-States   <=50K  \n",
      "1             0             0              40   United-States   <=50K  \n",
      "2             0             0              40   United-States   <=50K  \n"
     ]
    }
   ],
   "source": [
    "cursor.execute('UPDATE sqladb SET education = \"HS\" WHERE education = \" HS-grad\"')\n",
    "print(pd.read_sql_query(\"SELECT * FROM sqladb\", connection).head(3))"
   ]
  },
  {
   "cell_type": "code",
   "execution_count": 86,
   "metadata": {},
   "outputs": [
    {
     "name": "stdout",
     "output_type": "stream",
     "text": [
      "   index  age workclass  fnlwgt   education  education_num  \\\n",
      "0      1   38   Private  215646          HS              9   \n",
      "1      2   53   Private  234721        11th              7   \n",
      "2      3   28   Private  338409   Bachelors             13   \n",
      "\n",
      "        marital_status          occupation    relationship    race      sex  \\\n",
      "0             Divorced   Handlers-cleaners   Not-in-family   White     Male   \n",
      "1   Married-civ-spouse   Handlers-cleaners         Husband   Black     Male   \n",
      "2   Married-civ-spouse      Prof-specialty            Wife   Black   Female   \n",
      "\n",
      "   capital_gain  capital_loss  hours_per_week  native_country  income  \n",
      "0             0             0              40   United-States   <=50K  \n",
      "1             0             0              40   United-States   <=50K  \n",
      "2             0             0              40            Cuba   <=50K  \n"
     ]
    }
   ],
   "source": [
    "cursor.execute('DELETE FROM sqladb WHERE fnlwgt = \" 83311\"')\n",
    "print(pd.read_sql_query(\"SELECT * FROM sqladb\", connection).head(3))"
   ]
  },
  {
   "cell_type": "code",
   "execution_count": 87,
   "metadata": {},
   "outputs": [
    {
     "name": "stdout",
     "output_type": "stream",
     "text": [
      "   index  age workclass  fnlwgt   education  education_num  \\\n",
      "0      2   53   Private  234721        11th              7   \n",
      "1      3   28   Private  338409   Bachelors             13   \n",
      "2      4   37   Private  284582     Masters             14   \n",
      "\n",
      "        marital_status          occupation relationship    race      sex  \\\n",
      "0   Married-civ-spouse   Handlers-cleaners      Husband   Black     Male   \n",
      "1   Married-civ-spouse      Prof-specialty         Wife   Black   Female   \n",
      "2   Married-civ-spouse     Exec-managerial         Wife   White   Female   \n",
      "\n",
      "   capital_gain  capital_loss  hours_per_week  native_country  income  \n",
      "0             0             0              40   United-States   <=50K  \n",
      "1             0             0              40            Cuba   <=50K  \n",
      "2             0             0              40   United-States   <=50K  \n"
     ]
    }
   ],
   "source": [
    "cursor.execute('DELETE FROM sqladb WHERE age=\" 38\"')\n",
    "print(pd.read_sql_query(\"SELECT * FROM sqladb\", connection).head(3))"
   ]
  },
  {
   "cell_type": "code",
   "execution_count": 88,
   "metadata": {},
   "outputs": [
    {
     "name": "stdout",
     "output_type": "stream",
     "text": [
      "[(891, 28, ' Private', 164170, ' Assoc-voc', 11, ' Married-civ-spouse', ' Adm-clerical', ' Wife', ' Asian-Pac-Islander', ' Female', 0, 0, 40, ' India', ' <=50K'), (24871, 28, ' Private', 191342, ' Some-college', 10, ' Never-married', ' Sales', ' Not-in-family', ' Other', ' Male', 0, 0, 40, ' India', ' <=50K')]\n"
     ]
    }
   ],
   "source": [
    "cursor.execute('SELECT DISTINCT * FROM sqladb WHERE age = \" 28\" AND age < 37 AND workclass = \" Private\" and native_country=\" India\"')\n",
    "output = cursor.fetchall()\n",
    "print(output)"
   ]
  },
  {
   "cell_type": "code",
   "execution_count": 90,
   "metadata": {},
   "outputs": [
    {
     "name": "stdout",
     "output_type": "stream",
     "text": [
      "[(10304, 33, ' Private', 357954, 'HS', 9, ' Married-civ-spouse', ' Handlers-cleaners', ' Husband', ' White', ' Male', 0, 0, 35, ' India', ' <=50K'), (27243, 33, ' State-gov', 200289, ' Masters', 14, ' Married-civ-spouse', ' Prof-specialty', ' Husband', ' Asian-Pac-Islander', ' Male', 0, 0, 19, ' India', ' <=50K'), (27973, 33, ' Private', 173858, ' Bachelors', 13, ' Married-civ-spouse', ' Adm-clerical', ' Other-relative', ' Asian-Pac-Islander', ' Male', 0, 0, 40, ' India', ' <=50K')]\n"
     ]
    }
   ],
   "source": [
    "cursor.execute('SELECT * FROM sqladb WHERE age=\" 33\" and native_country=\" India\"')\n",
    "output = cursor.fetchall()\n",
    "print(output)"
   ]
  },
  {
   "cell_type": "code",
   "execution_count": 109,
   "metadata": {},
   "outputs": [
    {
     "name": "stdout",
     "output_type": "stream",
     "text": [
      "       index  age      workclass  fnlwgt education  education_num  \\\n",
      "32191  32556   40        Private  154374   HS-grad              9   \n",
      "32192  32558   22        Private  201490   HS-grad              9   \n",
      "32193  32559   52   Self-emp-inc  287927   HS-grad              9   \n",
      "\n",
      "            marital_status          occupation relationship    race      sex  \\\n",
      "32191   Married-civ-spouse   Machine-op-inspct      Husband   White     Male   \n",
      "32192        Never-married        Adm-clerical    Own-child   White     Male   \n",
      "32193   Married-civ-spouse     Exec-managerial         Wife   White   Female   \n",
      "\n",
      "       capital_gain  capital_loss  hours_per_week  native_country  income  \n",
      "32191             0             0              40   United-States    >50K  \n",
      "32192             0             0              20   United-States   <=50K  \n",
      "32193         15024             0              40   United-States    >50K  \n"
     ]
    }
   ],
   "source": [
    "def fun_one():\n",
    "    \n",
    "    connection = sqlite3.connect(\"sqladb\")\n",
    "    cursor = connection.cursor()\n",
    "    cursor.execute('delete from sqladb WHERE age = \" 58\"')\n",
    "    print(pd.read_sql_query(\"SELECT * FROM sqladb\", connection).tail(3))   \n",
    "    connection.close()\n",
    "\n",
    "fun_one()"
   ]
  },
  {
   "cell_type": "code",
   "execution_count": 106,
   "metadata": {},
   "outputs": [
    {
     "data": {
      "text/html": [
       "<div>\n",
       "<style scoped>\n",
       "    .dataframe tbody tr th:only-of-type {\n",
       "        vertical-align: middle;\n",
       "    }\n",
       "\n",
       "    .dataframe tbody tr th {\n",
       "        vertical-align: top;\n",
       "    }\n",
       "\n",
       "    .dataframe thead th {\n",
       "        text-align: right;\n",
       "    }\n",
       "</style>\n",
       "<table border=\"1\" class=\"dataframe\">\n",
       "  <thead>\n",
       "    <tr style=\"text-align: right;\">\n",
       "      <th></th>\n",
       "      <th>age</th>\n",
       "      <th>workclass</th>\n",
       "      <th>fnlwgt</th>\n",
       "      <th>education</th>\n",
       "      <th>education_num</th>\n",
       "      <th>marital_status</th>\n",
       "      <th>occupation</th>\n",
       "      <th>relationship</th>\n",
       "      <th>race</th>\n",
       "      <th>sex</th>\n",
       "      <th>capital_gain</th>\n",
       "      <th>capital_loss</th>\n",
       "      <th>hours_per_week</th>\n",
       "      <th>native_country</th>\n",
       "      <th>income</th>\n",
       "    </tr>\n",
       "  </thead>\n",
       "  <tbody>\n",
       "    <tr>\n",
       "      <th>32557</th>\n",
       "      <td>58</td>\n",
       "      <td>Private</td>\n",
       "      <td>151910</td>\n",
       "      <td>HS-grad</td>\n",
       "      <td>9</td>\n",
       "      <td>Widowed</td>\n",
       "      <td>Adm-clerical</td>\n",
       "      <td>Unmarried</td>\n",
       "      <td>White</td>\n",
       "      <td>Female</td>\n",
       "      <td>0</td>\n",
       "      <td>0</td>\n",
       "      <td>40</td>\n",
       "      <td>United-States</td>\n",
       "      <td>&lt;=50K</td>\n",
       "    </tr>\n",
       "    <tr>\n",
       "      <th>32558</th>\n",
       "      <td>22</td>\n",
       "      <td>Private</td>\n",
       "      <td>201490</td>\n",
       "      <td>HS-grad</td>\n",
       "      <td>9</td>\n",
       "      <td>Never-married</td>\n",
       "      <td>Adm-clerical</td>\n",
       "      <td>Own-child</td>\n",
       "      <td>White</td>\n",
       "      <td>Male</td>\n",
       "      <td>0</td>\n",
       "      <td>0</td>\n",
       "      <td>20</td>\n",
       "      <td>United-States</td>\n",
       "      <td>&lt;=50K</td>\n",
       "    </tr>\n",
       "    <tr>\n",
       "      <th>32559</th>\n",
       "      <td>52</td>\n",
       "      <td>Self-emp-inc</td>\n",
       "      <td>287927</td>\n",
       "      <td>HS-grad</td>\n",
       "      <td>9</td>\n",
       "      <td>Married-civ-spouse</td>\n",
       "      <td>Exec-managerial</td>\n",
       "      <td>Wife</td>\n",
       "      <td>White</td>\n",
       "      <td>Female</td>\n",
       "      <td>15024</td>\n",
       "      <td>0</td>\n",
       "      <td>40</td>\n",
       "      <td>United-States</td>\n",
       "      <td>&gt;50K</td>\n",
       "    </tr>\n",
       "  </tbody>\n",
       "</table>\n",
       "</div>"
      ],
      "text/plain": [
       "       age      workclass  fnlwgt education  education_num  \\\n",
       "32557   58        Private  151910   HS-grad              9   \n",
       "32558   22        Private  201490   HS-grad              9   \n",
       "32559   52   Self-emp-inc  287927   HS-grad              9   \n",
       "\n",
       "            marital_status        occupation relationship    race      sex  \\\n",
       "32557              Widowed      Adm-clerical    Unmarried   White   Female   \n",
       "32558        Never-married      Adm-clerical    Own-child   White     Male   \n",
       "32559   Married-civ-spouse   Exec-managerial         Wife   White   Female   \n",
       "\n",
       "       capital_gain  capital_loss  hours_per_week  native_country  income  \n",
       "32557             0             0              40   United-States   <=50K  \n",
       "32558             0             0              20   United-States   <=50K  \n",
       "32559         15024             0              40   United-States    >50K  "
      ]
     },
     "execution_count": 106,
     "metadata": {},
     "output_type": "execute_result"
    }
   ],
   "source": [
    "adult_data_set.tail(3)"
   ]
  },
  {
   "cell_type": "code",
   "execution_count": 95,
   "metadata": {},
   "outputs": [
    {
     "name": "stdout",
     "output_type": "stream",
     "text": [
      "[(10, 30, ' State-gov', 141297, ' Bachelors', 13, ' Married-civ-spouse', ' Prof-specialty', ' Husband', ' Asian-Pac-Islander', ' Male', 0, 0, 40, ' India', ' >50K'), (891, 28, ' Private', 164170, ' Assoc-voc', 11, ' Married-civ-spouse', ' Adm-clerical', ' Wife', ' Asian-Pac-Islander', ' Female', 0, 0, 40, ' India', ' <=50K'), (967, 48, ' Private', 164966, ' Bachelors', 13, ' Married-civ-spouse', ' Exec-managerial', ' Husband', ' Asian-Pac-Islander', ' Male', 0, 0, 40, ' India', ' >50K'), (1028, 48, ' Self-emp-inc', 138370, ' Masters', 14, ' Married-spouse-absent', ' Sales', ' Not-in-family', ' Asian-Pac-Islander', ' Male', 0, 0, 50, ' India', ' <=50K'), (1094, 22, ' Self-emp-not-inc', 361280, ' Bachelors', 13, ' Never-married', ' Prof-specialty', ' Own-child', ' Asian-Pac-Islander', ' Male', 0, 0, 20, ' India', ' <=50K'), (1326, 52, ' Private', 168381, ' HS-grad', 9, ' Widowed', ' Other-service', ' Unmarried', ' Asian-Pac-Islander', ' Female', 0, 0, 40, ' India', ' >50K'), (2129, 28, ' State-gov', 130620, ' 11th', 7, ' Separated', ' Adm-clerical', ' Unmarried', ' Asian-Pac-Islander', ' Female', 0, 0, 40, ' India', ' <=50K'), (2557, 58, ' State-gov', 110517, ' Doctorate', 16, ' Married-civ-spouse', ' Prof-specialty', ' Husband', ' Asian-Pac-Islander', ' Male', 4064, 0, 40, ' India', ' <=50K'), (2988, 44, ' Private', 178385, ' Masters', 14, ' Married-civ-spouse', ' Exec-managerial', ' Husband', ' Asian-Pac-Islander', ' Male', 0, 0, 48, ' India', ' <=50K'), (4479, 30, ' Private', 302149, ' Bachelors', 13, ' Married-civ-spouse', ' Sales', ' Husband', ' Asian-Pac-Islander', ' Male', 0, 0, 40, ' India', ' <=50K'), (4511, 29, ' Private', 193260, ' Bachelors', 13, ' Married-civ-spouse', ' Craft-repair', ' Other-relative', ' Asian-Pac-Islander', ' Male', 0, 0, 30, ' India', ' <=50K'), (4522, 57, ' Local-gov', 148509, ' Bachelors', 13, ' Married-civ-spouse', ' Prof-specialty', ' Husband', ' Asian-Pac-Islander', ' Male', 0, 0, 35, ' India', ' <=50K'), (5628, 46, ' Private', 199316, ' Some-college', 10, ' Married-civ-spouse', ' Craft-repair', ' Other-relative', ' Asian-Pac-Islander', ' Male', 0, 0, 40, ' India', ' <=50K'), (6218, 46, ' Private', 175262, ' Assoc-acdm', 12, ' Married-civ-spouse', ' Adm-clerical', ' Husband', ' Asian-Pac-Islander', ' Male', 0, 0, 40, ' India', ' <=50K'), (6320, 20, ' Private', 116666, ' Some-college', 10, ' Never-married', ' Sales', ' Own-child', ' Asian-Pac-Islander', ' Male', 0, 0, 8, ' India', ' <=50K'), (6559, 26, ' State-gov', 203279, ' Prof-school', 15, ' Never-married', ' Prof-specialty', ' Not-in-family', ' Asian-Pac-Islander', ' Male', 2463, 0, 50, ' India', ' <=50K'), (6963, 29, ' Private', 87507, ' Doctorate', 16, ' Married-civ-spouse', ' Prof-specialty', ' Husband', ' Asian-Pac-Islander', ' Male', 0, 0, 60, ' India', ' <=50K'), (7257, 42, ' State-gov', 102343, ' Prof-school', 15, ' Married-civ-spouse', ' Prof-specialty', ' Husband', ' Asian-Pac-Islander', ' Male', 0, 0, 72, ' India', ' >50K'), (7284, 54, ' State-gov', 93449, ' Masters', 14, ' Married-civ-spouse', ' Prof-specialty', ' Husband', ' Asian-Pac-Islander', ' Male', 0, 0, 40, ' India', ' >50K'), (7843, 35, ' Private', 107302, ' Masters', 14, ' Married-civ-spouse', ' Sales', ' Husband', ' White', ' Male', 0, 0, 40, ' India', ' <=50K'), (7931, 29, ' Private', 130620, ' Some-college', 10, ' Married-spouse-absent', ' Sales', ' Own-child', ' Asian-Pac-Islander', ' Female', 0, 0, 26, ' India', ' <=50K'), (8123, 36, ' Private', 172104, ' Prof-school', 15, ' Never-married', ' Prof-specialty', ' Not-in-family', ' Other', ' Male', 0, 0, 40, ' India', ' >50K'), (9127, 18, ' Self-emp-inc', 119422, ' HS-grad', 9, ' Never-married', ' Other-service', ' Unmarried', ' Asian-Pac-Islander', ' Female', 0, 0, 30, ' India', ' <=50K'), (9532, 48, ' Self-emp-not-inc', 167918, ' Masters', 14, ' Married-civ-spouse', ' Sales', ' Husband', ' Asian-Pac-Islander', ' Male', 0, 0, 50, ' India', ' <=50K'), (9792, 45, ' State-gov', 94754, ' Masters', 14, ' Married-civ-spouse', ' Adm-clerical', ' Husband', ' White', ' Male', 0, 0, 40, ' India', ' <=50K'), (9938, 43, ' Federal-gov', 325706, ' Prof-school', 15, ' Married-civ-spouse', ' Prof-specialty', ' Husband', ' Asian-Pac-Islander', ' Male', 0, 0, 50, ' India', ' >50K'), (10106, 31, ' Private', 341672, ' Bachelors', 13, ' Married-civ-spouse', ' Adm-clerical', ' Husband', ' Asian-Pac-Islander', ' Male', 0, 0, 60, ' India', ' <=50K'), (10304, 33, ' Private', 357954, ' HS-grad', 9, ' Married-civ-spouse', ' Handlers-cleaners', ' Husband', ' White', ' Male', 0, 0, 35, ' India', ' <=50K'), (10589, 35, ' Private', 98283, ' Prof-school', 15, ' Never-married', ' Prof-specialty', ' Not-in-family', ' Asian-Pac-Islander', ' Male', 0, 0, 40, ' India', ' >50K'), (10660, 59, ' Private', 122283, ' Prof-school', 15, ' Married-civ-spouse', ' Prof-specialty', ' Husband', ' Asian-Pac-Islander', ' Male', 99999, 0, 40, ' India', ' >50K'), (10735, 30, ' Private', 243190, ' Prof-school', 15, ' Married-civ-spouse', ' Prof-specialty', ' Husband', ' Asian-Pac-Islander', ' Male', 0, 0, 20, ' India', ' >50K'), (11259, 54, ' Private', 225599, ' Masters', 14, ' Married-civ-spouse', ' Prof-specialty', ' Husband', ' Asian-Pac-Islander', ' Male', 7298, 0, 40, ' India', ' >50K'), (11383, 34, ' Private', 98283, ' Prof-school', 15, ' Never-married', ' Tech-support', ' Not-in-family', ' Asian-Pac-Islander', ' Male', 0, 1564, 40, ' India', ' >50K'), (11755, 36, ' Private', 99872, ' HS-grad', 9, ' Married-civ-spouse', ' Craft-repair', ' Husband', ' Asian-Pac-Islander', ' Male', 0, 0, 40, ' India', ' <=50K'), (11834, 38, ' Private', 167725, ' Bachelors', 13, ' Married-spouse-absent', ' Transport-moving', ' Not-in-family', ' Other', ' Male', 0, 0, 84, ' India', ' <=50K'), (12367, 24, ' Private', 108495, ' Some-college', 10, ' Never-married', ' Adm-clerical', ' Own-child', ' White', ' Male', 0, 0, 40, ' India', ' <=50K'), (12794, 22, ' Private', 320451, ' Some-college', 10, ' Never-married', ' Protective-serv', ' Own-child', ' Asian-Pac-Islander', ' Male', 0, 0, 24, ' India', ' <=50K'), (13421, 53, ' Private', 366957, ' Bachelors', 13, ' Married-civ-spouse', ' Exec-managerial', ' Husband', ' Asian-Pac-Islander', ' Male', 99999, 0, 50, ' India', ' >50K'), (13550, 40, ' Private', 220977, ' Doctorate', 16, ' Married-civ-spouse', ' Exec-managerial', ' Husband', ' Asian-Pac-Islander', ' Male', 3103, 0, 40, ' India', ' >50K'), (13861, 45, ' Private', 209912, ' Bachelors', 13, ' Married-civ-spouse', ' Exec-managerial', ' Husband', ' Asian-Pac-Islander', ' Male', 0, 0, 40, ' India', ' >50K'), (14040, 50, ' Self-emp-inc', 104849, ' Prof-school', 15, ' Married-civ-spouse', ' Prof-specialty', ' Husband', ' Asian-Pac-Islander', ' Male', 0, 0, 40, ' India', ' <=50K'), (14684, 36, ' Private', 110998, ' Masters', 14, ' Widowed', ' Tech-support', ' Unmarried', ' Asian-Pac-Islander', ' Female', 0, 0, 40, ' India', ' <=50K'), (15697, 32, ' Private', 31740, ' Masters', 14, ' Married-civ-spouse', ' Prof-specialty', ' Husband', ' Asian-Pac-Islander', ' Male', 0, 0, 40, ' India', ' <=50K'), (16016, 41, ' Private', 207578, ' Assoc-acdm', 12, ' Married-civ-spouse', ' Exec-managerial', ' Husband', ' Black', ' Male', 0, 0, 50, ' India', ' >50K'), (16335, 47, ' Private', 191411, ' Masters', 14, ' Married-civ-spouse', ' Prof-specialty', ' Husband', ' Asian-Pac-Islander', ' Male', 0, 0, 45, ' India', ' <=50K'), (16777, 43, ' Private', 242968, ' Masters', 14, ' Married-civ-spouse', ' Exec-managerial', ' Husband', ' Asian-Pac-Islander', ' Male', 0, 0, 40, ' India', ' >50K'), (16922, 41, ' Private', 143003, ' Assoc-voc', 11, ' Married-civ-spouse', ' Other-service', ' Husband', ' Asian-Pac-Islander', ' Male', 7298, 0, 60, ' India', ' >50K'), (17258, 57, ' Self-emp-inc', 123053, ' Prof-school', 15, ' Married-civ-spouse', ' Prof-specialty', ' Husband', ' Asian-Pac-Islander', ' Male', 15024, 0, 50, ' India', ' >50K'), (17833, 29, ' Self-emp-not-inc', 341672, ' HS-grad', 9, ' Married-spouse-absent', ' Transport-moving', ' Other-relative', ' Asian-Pac-Islander', ' Male', 0, 1564, 50, ' India', ' >50K'), (18555, 26, ' State-gov', 147719, ' Bachelors', 13, ' Never-married', ' Prof-specialty', ' Not-in-family', ' Asian-Pac-Islander', ' Male', 0, 0, 20, ' India', ' <=50K'), (18967, 27, ' Private', 154210, ' 11th', 7, ' Married-spouse-absent', ' Sales', ' Own-child', ' Asian-Pac-Islander', ' Male', 0, 0, 35, ' India', ' <=50K'), (19925, 27, ' Private', 236481, ' Prof-school', 15, ' Never-married', ' Prof-specialty', ' Not-in-family', ' Asian-Pac-Islander', ' Male', 0, 0, 10, ' India', ' <=50K'), (19958, 45, ' Private', 175262, ' 9th', 5, ' Married-civ-spouse', ' Handlers-cleaners', ' Husband', ' Asian-Pac-Islander', ' Male', 0, 0, 40, ' India', ' <=50K'), (20416, 42, ' Self-emp-inc', 23510, ' Masters', 14, ' Divorced', ' Exec-managerial', ' Unmarried', ' Asian-Pac-Islander', ' Male', 0, 2201, 60, ' India', ' >50K'), (20464, 39, ' Private', 198654, ' Prof-school', 15, ' Married-civ-spouse', ' Prof-specialty', ' Husband', ' Asian-Pac-Islander', ' Male', 0, 2415, 67, ' India', ' >50K'), (20708, 24, ' State-gov', 147719, ' Masters', 14, ' Never-married', ' Prof-specialty', ' Not-in-family', ' Asian-Pac-Islander', ' Male', 0, 0, 20, ' India', ' <=50K'), (21127, 30, ' Private', 122889, ' Masters', 14, ' Married-civ-spouse', ' Prof-specialty', ' Husband', ' Asian-Pac-Islander', ' Male', 0, 0, 50, ' India', ' >50K'), (21129, 49, ' Private', 176341, ' Bachelors', 13, ' Never-married', ' Tech-support', ' Unmarried', ' Asian-Pac-Islander', ' Female', 0, 0, 40, ' India', ' <=50K'), (22430, 59, ' Private', 138370, ' 10th', 6, ' Married-spouse-absent', ' Protective-serv', ' Not-in-family', ' Asian-Pac-Islander', ' Male', 0, 0, 40, ' India', ' <=50K'), (22878, 25, ' Private', 103358, ' Some-college', 10, ' Never-married', ' Machine-op-inspct', ' Own-child', ' White', ' Male', 0, 0, 40, ' India', ' <=50K'), (23021, 34, ' Self-emp-not-inc', 100079, ' Bachelors', 13, ' Married-civ-spouse', ' Sales', ' Husband', ' Asian-Pac-Islander', ' Male', 0, 0, 55, ' India', ' <=50K'), (23473, 55, ' State-gov', 120781, ' Doctorate', 16, ' Married-civ-spouse', ' Prof-specialty', ' Husband', ' Asian-Pac-Islander', ' Male', 0, 0, 40, ' India', ' >50K'), (23890, 49, ' Private', 138370, ' Masters', 14, ' Married-spouse-absent', ' Protective-serv', ' Not-in-family', ' Asian-Pac-Islander', ' Male', 0, 0, 40, ' India', ' <=50K'), (24153, 46, ' Private', 229737, ' Bachelors', 13, ' Married-civ-spouse', ' Sales', ' Husband', ' White', ' Male', 0, 0, 50, ' India', ' >50K'), (24174, 54, ' Private', 349340, ' Preschool', 1, ' Married-civ-spouse', ' Craft-repair', ' Husband', ' Asian-Pac-Islander', ' Male', 0, 0, 40, ' India', ' <=50K'), (24871, 28, ' Private', 191342, ' Some-college', 10, ' Never-married', ' Sales', ' Not-in-family', ' Other', ' Male', 0, 0, 40, ' India', ' <=50K'), (24980, 43, ' Self-emp-inc', 140988, ' Bachelors', 13, ' Married-civ-spouse', ' Sales', ' Other-relative', ' Asian-Pac-Islander', ' Male', 0, 0, 45, ' India', ' <=50K'), (25375, 21, ' Private', 156687, ' Some-college', 10, ' Never-married', ' Sales', ' Own-child', ' Asian-Pac-Islander', ' Male', 0, 0, 30, ' India', ' <=50K'), (25661, 61, ' Private', 124242, ' HS-grad', 9, ' Married-civ-spouse', ' Protective-serv', ' Husband', ' Black', ' Male', 0, 0, 40, ' India', ' <=50K'), (25738, 35, ' Self-emp-inc', 79586, ' Masters', 14, ' Married-civ-spouse', ' Prof-specialty', ' Husband', ' Asian-Pac-Islander', ' Male', 0, 0, 40, ' India', ' >50K'), (25896, 31, ' Private', 130620, ' 11th', 7, ' Married-spouse-absent', ' Sales', ' Own-child', ' Asian-Pac-Islander', ' Female', 0, 0, 40, ' India', ' <=50K'), (26304, 27, ' Private', 207352, ' Bachelors', 13, ' Married-civ-spouse', ' Tech-support', ' Husband', ' Asian-Pac-Islander', ' Male', 0, 0, 40, ' India', ' >50K'), (26320, 35, ' Private', 176123, ' 10th', 6, ' Married-civ-spouse', ' Other-service', ' Husband', ' Asian-Pac-Islander', ' Male', 0, 0, 60, ' India', ' <=50K'), (26355, 34, ' Private', 99872, ' Masters', 14, ' Married-civ-spouse', ' Exec-managerial', ' Husband', ' Asian-Pac-Islander', ' Male', 3103, 0, 40, ' India', ' >50K'), (27169, 47, ' Private', 334679, ' Masters', 14, ' Separated', ' Machine-op-inspct', ' Unmarried', ' Asian-Pac-Islander', ' Female', 0, 0, 42, ' India', ' <=50K'), (27243, 33, ' State-gov', 200289, ' Masters', 14, ' Married-civ-spouse', ' Prof-specialty', ' Husband', ' Asian-Pac-Islander', ' Male', 0, 0, 19, ' India', ' <=50K'), (27288, 55, ' Private', 135803, ' Bachelors', 13, ' Married-civ-spouse', ' Exec-managerial', ' Husband', ' Other', ' Male', 0, 1579, 35, ' India', ' <=50K'), (27658, 31, ' Private', 137367, ' 11th', 7, ' Married-spouse-absent', ' Handlers-cleaners', ' Not-in-family', ' Asian-Pac-Islander', ' Male', 0, 0, 40, ' India', ' <=50K'), (27669, 61, ' Private', 80896, ' Masters', 14, ' Married-civ-spouse', ' Prof-specialty', ' Husband', ' Asian-Pac-Islander', ' Male', 0, 0, 45, ' India', ' >50K'), (27888, 17, ' Private', 56536, ' 11th', 7, ' Never-married', ' Sales', ' Own-child', ' White', ' Female', 1055, 0, 18, ' India', ' <=50K'), (27903, 31, ' Private', 341672, ' Some-college', 10, ' Married-civ-spouse', ' Adm-clerical', ' Husband', ' Asian-Pac-Islander', ' Male', 0, 0, 50, ' India', ' <=50K'), (27973, 33, ' Private', 173858, ' Bachelors', 13, ' Married-civ-spouse', ' Adm-clerical', ' Other-relative', ' Asian-Pac-Islander', ' Male', 0, 0, 40, ' India', ' <=50K'), (28263, 51, ' Self-emp-not-inc', 120781, ' Prof-school', 15, ' Married-civ-spouse', ' Prof-specialty', ' Husband', ' Other', ' Male', 99999, 0, 70, ' India', ' >50K'), (28432, 42, ' Private', 198341, ' Masters', 14, ' Married-civ-spouse', ' Prof-specialty', ' Husband', ' Asian-Pac-Islander', ' Male', 0, 1902, 55, ' India', ' >50K'), (28451, 53, ' Private', 70387, ' Masters', 14, ' Married-civ-spouse', ' Prof-specialty', ' Husband', ' Asian-Pac-Islander', ' Male', 4386, 0, 40, ' India', ' >50K'), (28556, 34, ' Private', 165737, ' Masters', 14, ' Married-civ-spouse', ' Prof-specialty', ' Husband', ' Asian-Pac-Islander', ' Male', 0, 0, 43, ' India', ' >50K'), (28650, 45, ' Self-emp-not-inc', 216402, ' Prof-school', 15, ' Married-civ-spouse', ' Prof-specialty', ' Husband', ' Asian-Pac-Islander', ' Male', 0, 0, 50, ' India', ' >50K'), (28692, 32, ' Private', 137367, ' 11th', 7, ' Never-married', ' Craft-repair', ' Not-in-family', ' Asian-Pac-Islander', ' Male', 0, 0, 40, ' India', ' <=50K'), (28773, 51, ' Private', 123053, ' Masters', 14, ' Married-civ-spouse', ' Prof-specialty', ' Husband', ' Asian-Pac-Islander', ' Male', 5013, 0, 40, ' India', ' <=50K'), (28797, 30, ' Self-emp-not-inc', 116666, ' Masters', 14, ' Divorced', ' Prof-specialty', ' Not-in-family', ' Asian-Pac-Islander', ' Male', 0, 0, 50, ' India', ' >50K'), (28815, 27, ' Private', 341672, ' Some-college', 10, ' Never-married', ' Adm-clerical', ' Other-relative', ' Asian-Pac-Islander', ' Male', 0, 0, 40, ' India', ' <=50K'), (29206, 25, ' Local-gov', 124483, ' Bachelors', 13, ' Never-married', ' Adm-clerical', ' Not-in-family', ' Asian-Pac-Islander', ' Male', 0, 0, 20, ' India', ' <=50K'), (29630, 31, ' Private', 173858, ' Prof-school', 15, ' Married-civ-spouse', ' Tech-support', ' Husband', ' Asian-Pac-Islander', ' Male', 0, 0, 40, ' India', ' <=50K'), (29727, 32, ' Private', 79586, ' Bachelors', 13, ' Married-civ-spouse', ' Prof-specialty', ' Husband', ' Asian-Pac-Islander', ' Male', 0, 0, 40, ' India', ' <=50K'), (30110, 41, ' Federal-gov', 219155, ' Prof-school', 15, ' Married-civ-spouse', ' Prof-specialty', ' Husband', ' White', ' Male', 0, 0, 50, ' India', ' >50K'), (30151, 48, ' Private', 119471, ' Doctorate', 16, ' Married-civ-spouse', ' Prof-specialty', ' Husband', ' Asian-Pac-Islander', ' Male', 0, 0, 40, ' India', ' >50K'), (30832, 25, ' Private', 110978, ' Assoc-acdm', 12, ' Married-civ-spouse', ' Adm-clerical', ' Wife', ' Asian-Pac-Islander', ' Female', 0, 0, 37, ' India', ' >50K'), (30870, 26, ' Private', 160261, ' Masters', 14, ' Never-married', ' Prof-specialty', ' Not-in-family', ' Asian-Pac-Islander', ' Male', 0, 0, 20, ' India', ' <=50K'), (31326, 38, ' State-gov', 125499, ' Bachelors', 13, ' Married-civ-spouse', ' Prof-specialty', ' Husband', ' Asian-Pac-Islander', ' Male', 7688, 0, 60, ' India', ' >50K'), (31356, 23, ' Private', 143003, ' Masters', 14, ' Married-civ-spouse', ' Prof-specialty', ' Husband', ' Asian-Pac-Islander', ' Male', 0, 1887, 50, ' India', ' >50K')]\n"
     ]
    }
   ],
   "source": [
    "connection = sqlite3.connect(\"sqladb\")\n",
    "cursor = connection.cursor()\n",
    "cursor.execute('SELECT * FROM sqladb WHERE native_country = \" India\"')\n",
    "output = cursor.fetchall()\n",
    "print(output)"
   ]
  },
  {
   "cell_type": "code",
   "execution_count": 96,
   "metadata": {},
   "outputs": [
    {
     "name": "stdout",
     "output_type": "stream",
     "text": [
      "[(42.688311688311686,)]\n"
     ]
    }
   ],
   "source": [
    "def age_check():\n",
    "    connection = sqlite3.connect(\"sqladb\")\n",
    "    cursor = connection.cursor()\n",
    "    cursor.execute('SELECT avg(age) FROM sqladb WHERE marital_status=\" Divorced\" AND sex=\" Male\"')\n",
    "    output = cursor.fetchall()\n",
    "    print(output)    \n",
    "    connection.close()\n",
    "\n",
    "age_check()"
   ]
  },
  {
   "cell_type": "code",
   "execution_count": null,
   "metadata": {},
   "outputs": [],
   "source": []
  }
 ],
 "metadata": {
  "kernelspec": {
   "display_name": "Python 3",
   "language": "python",
   "name": "python3"
  },
  "language_info": {
   "codemirror_mode": {
    "name": "ipython",
    "version": 3
   },
   "file_extension": ".py",
   "mimetype": "text/x-python",
   "name": "python",
   "nbconvert_exporter": "python",
   "pygments_lexer": "ipython3",
   "version": "3.6.4"
  }
 },
 "nbformat": 4,
 "nbformat_minor": 2
}
